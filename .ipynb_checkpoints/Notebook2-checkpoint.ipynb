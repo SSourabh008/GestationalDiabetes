{
 "cells": [
  {
   "cell_type": "code",
   "execution_count": 1,
   "id": "c603abdf-75d1-498f-b11a-761a08314dd4",
   "metadata": {},
   "outputs": [],
   "source": [
    "import pandas as pd\n",
    "import numpy as np\n",
    "from sklearn.model_selection import train_test_split\n",
    "from sklearn.linear_model import LogisticRegression\n",
    "from sklearn.metrics import classification_report, roc_auc_score"
   ]
  },
  {
   "cell_type": "code",
   "execution_count": 2,
   "id": "308b8db6-119f-4892-b553-83ccd5d743fd",
   "metadata": {},
   "outputs": [],
   "source": [
    "file_path = r'C:/Users/soura/Desktop/Minor Project/Gestational Doiabetes/Dataset/GS.xlsx'"
   ]
  },
  {
   "cell_type": "code",
   "execution_count": 3,
   "id": "6e2ed424-5e44-4df6-80e4-2bba33d8d6b7",
   "metadata": {},
   "outputs": [
    {
     "name": "stdout",
     "output_type": "stream",
     "text": [
      "Dataset loaded successfully!\n"
     ]
    }
   ],
   "source": [
    "try:\n",
    "    data = pd.read_excel(file_path)\n",
    "    print(\"Dataset loaded successfully!\")\n",
    "    data.head()\n",
    "except Exception as e:\n",
    "    print(f\"An error occurred while loading the dataset: {e}\")"
   ]
  },
  {
   "cell_type": "code",
   "execution_count": 4,
   "id": "1de0b286-a4f1-4469-96cc-9ea77a8c29af",
   "metadata": {},
   "outputs": [
    {
     "data": {
      "text/html": [
       "<div>\n",
       "<style scoped>\n",
       "    .dataframe tbody tr th:only-of-type {\n",
       "        vertical-align: middle;\n",
       "    }\n",
       "\n",
       "    .dataframe tbody tr th {\n",
       "        vertical-align: top;\n",
       "    }\n",
       "\n",
       "    .dataframe thead th {\n",
       "        text-align: right;\n",
       "    }\n",
       "</style>\n",
       "<table border=\"1\" class=\"dataframe\">\n",
       "  <thead>\n",
       "    <tr style=\"text-align: right;\">\n",
       "      <th></th>\n",
       "      <th>Case Number</th>\n",
       "      <th>Age</th>\n",
       "      <th>No of Pregnancy</th>\n",
       "      <th>Gestation in previous Pregnancy</th>\n",
       "      <th>BMI</th>\n",
       "      <th>HDL</th>\n",
       "      <th>Family History</th>\n",
       "      <th>unexplained prenetal loss</th>\n",
       "      <th>Large Child or Birth Default</th>\n",
       "      <th>PCOS</th>\n",
       "      <th>Sys BP</th>\n",
       "      <th>Dia BP</th>\n",
       "      <th>OGTT</th>\n",
       "      <th>Hemoglobin</th>\n",
       "      <th>Sedentary Lifestyle</th>\n",
       "      <th>Prediabetes</th>\n",
       "      <th>Class Label(GDM /Non GDM)</th>\n",
       "    </tr>\n",
       "  </thead>\n",
       "  <tbody>\n",
       "    <tr>\n",
       "      <th>0</th>\n",
       "      <td>1</td>\n",
       "      <td>22</td>\n",
       "      <td>2</td>\n",
       "      <td>1</td>\n",
       "      <td>NaN</td>\n",
       "      <td>55.0</td>\n",
       "      <td>0</td>\n",
       "      <td>0</td>\n",
       "      <td>0</td>\n",
       "      <td>0</td>\n",
       "      <td>102.0</td>\n",
       "      <td>69</td>\n",
       "      <td>NaN</td>\n",
       "      <td>12.0</td>\n",
       "      <td>0</td>\n",
       "      <td>0</td>\n",
       "      <td>0</td>\n",
       "    </tr>\n",
       "    <tr>\n",
       "      <th>1</th>\n",
       "      <td>2</td>\n",
       "      <td>26</td>\n",
       "      <td>2</td>\n",
       "      <td>1</td>\n",
       "      <td>NaN</td>\n",
       "      <td>53.0</td>\n",
       "      <td>0</td>\n",
       "      <td>0</td>\n",
       "      <td>0</td>\n",
       "      <td>0</td>\n",
       "      <td>101.0</td>\n",
       "      <td>63</td>\n",
       "      <td>NaN</td>\n",
       "      <td>12.4</td>\n",
       "      <td>0</td>\n",
       "      <td>0</td>\n",
       "      <td>0</td>\n",
       "    </tr>\n",
       "    <tr>\n",
       "      <th>2</th>\n",
       "      <td>3</td>\n",
       "      <td>29</td>\n",
       "      <td>1</td>\n",
       "      <td>0</td>\n",
       "      <td>NaN</td>\n",
       "      <td>50.0</td>\n",
       "      <td>0</td>\n",
       "      <td>0</td>\n",
       "      <td>0</td>\n",
       "      <td>0</td>\n",
       "      <td>118.0</td>\n",
       "      <td>79</td>\n",
       "      <td>NaN</td>\n",
       "      <td>14.3</td>\n",
       "      <td>0</td>\n",
       "      <td>0</td>\n",
       "      <td>0</td>\n",
       "    </tr>\n",
       "    <tr>\n",
       "      <th>3</th>\n",
       "      <td>4</td>\n",
       "      <td>28</td>\n",
       "      <td>2</td>\n",
       "      <td>1</td>\n",
       "      <td>NaN</td>\n",
       "      <td>51.0</td>\n",
       "      <td>0</td>\n",
       "      <td>0</td>\n",
       "      <td>0</td>\n",
       "      <td>0</td>\n",
       "      <td>99.0</td>\n",
       "      <td>70</td>\n",
       "      <td>NaN</td>\n",
       "      <td>15.0</td>\n",
       "      <td>0</td>\n",
       "      <td>0</td>\n",
       "      <td>0</td>\n",
       "    </tr>\n",
       "    <tr>\n",
       "      <th>4</th>\n",
       "      <td>5</td>\n",
       "      <td>21</td>\n",
       "      <td>2</td>\n",
       "      <td>1</td>\n",
       "      <td>NaN</td>\n",
       "      <td>52.0</td>\n",
       "      <td>0</td>\n",
       "      <td>0</td>\n",
       "      <td>0</td>\n",
       "      <td>0</td>\n",
       "      <td>116.0</td>\n",
       "      <td>65</td>\n",
       "      <td>NaN</td>\n",
       "      <td>15.0</td>\n",
       "      <td>0</td>\n",
       "      <td>0</td>\n",
       "      <td>0</td>\n",
       "    </tr>\n",
       "  </tbody>\n",
       "</table>\n",
       "</div>"
      ],
      "text/plain": [
       "   Case Number  Age  No of Pregnancy  Gestation in previous Pregnancy  BMI  \\\n",
       "0            1   22                2                                1  NaN   \n",
       "1            2   26                2                                1  NaN   \n",
       "2            3   29                1                                0  NaN   \n",
       "3            4   28                2                                1  NaN   \n",
       "4            5   21                2                                1  NaN   \n",
       "\n",
       "    HDL  Family History  unexplained prenetal loss  \\\n",
       "0  55.0               0                          0   \n",
       "1  53.0               0                          0   \n",
       "2  50.0               0                          0   \n",
       "3  51.0               0                          0   \n",
       "4  52.0               0                          0   \n",
       "\n",
       "   Large Child or Birth Default  PCOS  Sys BP  Dia BP  OGTT  Hemoglobin  \\\n",
       "0                             0     0   102.0      69   NaN        12.0   \n",
       "1                             0     0   101.0      63   NaN        12.4   \n",
       "2                             0     0   118.0      79   NaN        14.3   \n",
       "3                             0     0    99.0      70   NaN        15.0   \n",
       "4                             0     0   116.0      65   NaN        15.0   \n",
       "\n",
       "   Sedentary Lifestyle  Prediabetes  Class Label(GDM /Non GDM)  \n",
       "0                    0            0                          0  \n",
       "1                    0            0                          0  \n",
       "2                    0            0                          0  \n",
       "3                    0            0                          0  \n",
       "4                    0            0                          0  "
      ]
     },
     "execution_count": 4,
     "metadata": {},
     "output_type": "execute_result"
    }
   ],
   "source": [
    "data.head()"
   ]
  },
  {
   "cell_type": "code",
   "execution_count": 5,
   "id": "766137ad-0320-4076-8261-9d9f930eb838",
   "metadata": {},
   "outputs": [
    {
     "data": {
      "text/plain": [
       "BMI       1081\n",
       "HDL       1001\n",
       "Sys BP    1705\n",
       "OGTT       513\n",
       "dtype: int64"
      ]
     },
     "execution_count": 5,
     "metadata": {},
     "output_type": "execute_result"
    }
   ],
   "source": [
    "missing_values = data.isnull().sum()\n",
    "missing_values[missing_values > 0]"
   ]
  },
  {
   "cell_type": "code",
   "execution_count": 6,
   "id": "c66ed352-9564-4a4a-b93d-9c2b4a71a5f1",
   "metadata": {},
   "outputs": [
    {
     "data": {
      "text/plain": [
       "Case Number                        0\n",
       "Age                                0\n",
       "No of Pregnancy                    0\n",
       "Gestation in previous Pregnancy    0\n",
       "BMI                                0\n",
       "HDL                                0\n",
       "Family History                     0\n",
       "unexplained prenetal loss          0\n",
       "Large Child or Birth Default       0\n",
       "PCOS                               0\n",
       "Sys BP                             0\n",
       "Dia BP                             0\n",
       "OGTT                               0\n",
       "Hemoglobin                         0\n",
       "Sedentary Lifestyle                0\n",
       "Prediabetes                        0\n",
       "Class Label(GDM /Non GDM)          0\n",
       "dtype: int64"
      ]
     },
     "execution_count": 6,
     "metadata": {},
     "output_type": "execute_result"
    }
   ],
   "source": [
    "numeric_columns = ['BMI', 'HDL', 'Sys BP', 'OGTT']\n",
    "data[numeric_columns] = data[numeric_columns].fillna(data[numeric_columns].mean())\n",
    "\n",
    "# Verify if missing values are handled\n",
    "data.isnull().sum()\n"
   ]
  },
  {
   "cell_type": "code",
   "execution_count": 7,
   "id": "9b568a47-94e6-46b3-b19c-3623e893c7fb",
   "metadata": {},
   "outputs": [
    {
     "data": {
      "text/plain": [
       "((2820, 15), (705, 15), (2820,), (705,))"
      ]
     },
     "execution_count": 7,
     "metadata": {},
     "output_type": "execute_result"
    }
   ],
   "source": [
    "from sklearn.preprocessing import StandardScaler\n",
    "\n",
    "X = data.drop(columns=['Case Number', 'Class Label(GDM /Non GDM)'])  # Drop ID and target columns\n",
    "y = data['Class Label(GDM /Non GDM)']\n",
    "\n",
    "scaler = StandardScaler()\n",
    "X_scaled = scaler.fit_transform(X)\n",
    "\n",
    "X_scaled_df = pd.DataFrame(X_scaled, columns=X.columns)\n",
    "\n",
    "X_train, X_test, y_train, y_test = train_test_split(X_scaled_df, y, test_size=0.2, random_state=42)\n",
    "\n",
    "X_train.shape, X_test.shape, y_train.shape, y_test.shape\n"
   ]
  },
  {
   "cell_type": "code",
   "execution_count": 8,
   "id": "5f4319ce-e15b-4379-b1fb-60b45f21d554",
   "metadata": {},
   "outputs": [
    {
     "name": "stderr",
     "output_type": "stream",
     "text": [
      "C:\\Users\\soura\\AppData\\Local\\Programs\\Python\\Python311\\Lib\\site-packages\\xgboost\\core.py:158: UserWarning: [07:58:00] WARNING: C:\\buildkite-agent\\builds\\buildkite-windows-cpu-autoscaling-group-i-0c55ff5f71b100e98-1\\xgboost\\xgboost-ci-windows\\src\\learner.cc:740: \n",
      "Parameters: { \"use_label_encoder\" } are not used.\n",
      "\n",
      "  warnings.warn(smsg, UserWarning)\n"
     ]
    },
    {
     "name": "stdout",
     "output_type": "stream",
     "text": [
      "XGBoost:\n",
      "AUC Score: 0.9964911061700945 \n",
      "Classification Report:               precision    recall  f1-score   support\n",
      "\n",
      "           0       0.97      0.98      0.98       448\n",
      "           1       0.96      0.95      0.96       257\n",
      "\n",
      "    accuracy                           0.97       705\n",
      "   macro avg       0.97      0.97      0.97       705\n",
      "weighted avg       0.97      0.97      0.97       705\n",
      "\n"
     ]
    }
   ],
   "source": [
    "from sklearn.ensemble import RandomForestClassifier\n",
    "from xgboost import XGBClassifier\n",
    "\n",
    "xgb_model = XGBClassifier(random_state=42, use_label_encoder=False, eval_metric='logloss')\n",
    "xgb_model.fit(X_train, y_train)\n",
    "xgb_pred = xgb_model.predict(X_test)\n",
    "xgb_auc_score = roc_auc_score(y_test, xgb_model.predict_proba(X_test)[:, 1])\n",
    "\n",
    "xgb_report = classification_report(y_test, xgb_pred)\n",
    "print(\"XGBoost:\\nAUC Score:\",xgb_auc_score, \"\\nClassification Report:\",xgb_report)"
   ]
  },
  {
   "cell_type": "code",
   "execution_count": 9,
   "id": "e254d420-b568-4a12-a27d-47f2d12dce48",
   "metadata": {},
   "outputs": [],
   "source": [
    "from sklearn.model_selection import GridSearchCV"
   ]
  },
  {
   "cell_type": "code",
   "execution_count": 11,
   "id": "a839e76d-e034-4379-9dbb-ae9fe905b4a1",
   "metadata": {},
   "outputs": [
    {
     "name": "stdout",
     "output_type": "stream",
     "text": [
      "Best Parameters for XGBoost: {'colsample_bytree': 1.0, 'learning_rate': 0.2, 'max_depth': 6, 'n_estimators': 200, 'subsample': 0.8}\n",
      "Best ROC-AUC Score for XGBoost: 0.9984009047512592\n"
     ]
    }
   ],
   "source": [
    "from xgboost import XGBClassifier\n",
    "\n",
    "xgb_params = {\n",
    "    'n_estimators': [50, 100, 200],  # Number of boosting rounds\n",
    "    'max_depth': [3, 6, 10],  # Depth of trees\n",
    "    'learning_rate': [0.01, 0.1, 0.2],  # Learning rate\n",
    "    'subsample': [0.8, 1.0],  # Fraction of samples used per tree\n",
    "    'colsample_bytree': [0.8, 1.0]  # Fraction of features used per split\n",
    "}\n",
    "\n",
    "xgb_grid = GridSearchCV(\n",
    "    XGBClassifier(random_state=42, eval_metric='logloss'),  # Removed use_label_encoder\n",
    "    xgb_params,\n",
    "    cv=5,  # 5-fold cross-validation\n",
    "    scoring='roc_auc'\n",
    ")\n",
    "\n",
    "xgb_grid.fit(X_train, y_train)\n",
    "\n",
    "print(\"Best Parameters for XGBoost:\", xgb_grid.best_params_)\n",
    "print(\"Best ROC-AUC Score for XGBoost:\", xgb_grid.best_score_)"
   ]
  },
  {
   "cell_type": "code",
   "execution_count": 12,
   "id": "99a2e366-b05f-4c1b-ba90-96238e0b6ad1",
   "metadata": {},
   "outputs": [],
   "source": [
    "# xgb_importance = xgb_grid.best_estimator_.feature_importances_\n",
    "# features = X_train.columns\n",
    "\n",
    "# plt.figure(figsize=(10, 6))\n",
    "# plt.barh(features, xgb_importance)\n",
    "# plt.xlabel(\"Feature Importance\")\n",
    "# plt.title(\"XGBoost Feature Importance\")\n",
    "# plt.show()"
   ]
  },
  {
   "cell_type": "code",
   "execution_count": 13,
   "id": "4af13f8e-bb51-48cb-a331-ba83f899f855",
   "metadata": {},
   "outputs": [
    {
     "name": "stdout",
     "output_type": "stream",
     "text": [
      "Best XGBoost model saved successfully at best_model.pkl\n"
     ]
    }
   ],
   "source": [
    "import joblib\n",
    "from xgboost import XGBClassifier  # Import XGBoost\n",
    "\n",
    "# Assuming you have trained XGBoostClassifier\n",
    "best_model = xgb_grid.best_estimator_  # Use the best model after tuning\n",
    "\n",
    "# Save the trained XGBoost model\n",
    "joblib.dump(best_model, \"best_model.pkl\")\n",
    "\n",
    "print(\"Best XGBoost model saved successfully at best_model.pkl\")"
   ]
  },
  {
   "cell_type": "code",
   "execution_count": null,
   "id": "11cbe406-5647-4686-a6ca-b4ab16119afa",
   "metadata": {},
   "outputs": [],
   "source": []
  },
  {
   "cell_type": "code",
   "execution_count": null,
   "id": "d326ffaf-8f23-4ac8-9870-7183cb4789ce",
   "metadata": {},
   "outputs": [],
   "source": []
  }
 ],
 "metadata": {
  "kernelspec": {
   "display_name": "Python 3 (ipykernel)",
   "language": "python",
   "name": "python3"
  },
  "language_info": {
   "codemirror_mode": {
    "name": "ipython",
    "version": 3
   },
   "file_extension": ".py",
   "mimetype": "text/x-python",
   "name": "python",
   "nbconvert_exporter": "python",
   "pygments_lexer": "ipython3",
   "version": "3.11.4"
  }
 },
 "nbformat": 4,
 "nbformat_minor": 5
}
