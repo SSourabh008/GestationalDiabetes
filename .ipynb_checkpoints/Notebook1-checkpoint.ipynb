{
 "cells": [
  {
   "cell_type": "code",
   "execution_count": 34,
   "id": "c275520f-e921-4a86-a72c-ce1b52852153",
   "metadata": {},
   "outputs": [],
   "source": [
    "import pandas as pd\n",
    "import numpy as np\n",
    "from sklearn.model_selection import train_test_split\n",
    "from sklearn.linear_model import LogisticRegression\n",
    "from sklearn.metrics import classification_report, roc_auc_score"
   ]
  },
  {
   "cell_type": "code",
   "execution_count": 35,
   "id": "0aac0144-6d8b-4b42-92db-8431b308f2e0",
   "metadata": {},
   "outputs": [],
   "source": [
    "file_path = r'C:/Users/soura/Desktop/Minor Project/Gestational Doiabetes/Dataset/GS.xlsx'"
   ]
  },
  {
   "cell_type": "code",
   "execution_count": 36,
   "id": "b6ebd38a-95b1-4a93-9605-907bd7a638af",
   "metadata": {},
   "outputs": [
    {
     "name": "stdout",
     "output_type": "stream",
     "text": [
      "Dataset loaded successfully!\n"
     ]
    }
   ],
   "source": [
    "try:\n",
    "    data = pd.read_excel(file_path)\n",
    "    print(\"Dataset loaded successfully!\")\n",
    "    data.head()\n",
    "except Exception as e:\n",
    "    print(f\"An error occurred while loading the dataset: {e}\")"
   ]
  },
  {
   "cell_type": "code",
   "execution_count": 37,
   "id": "2632b212-1051-4311-89d8-a3887f2e7c2c",
   "metadata": {},
   "outputs": [
    {
     "data": {
      "text/html": [
       "<div>\n",
       "<style scoped>\n",
       "    .dataframe tbody tr th:only-of-type {\n",
       "        vertical-align: middle;\n",
       "    }\n",
       "\n",
       "    .dataframe tbody tr th {\n",
       "        vertical-align: top;\n",
       "    }\n",
       "\n",
       "    .dataframe thead th {\n",
       "        text-align: right;\n",
       "    }\n",
       "</style>\n",
       "<table border=\"1\" class=\"dataframe\">\n",
       "  <thead>\n",
       "    <tr style=\"text-align: right;\">\n",
       "      <th></th>\n",
       "      <th>Case Number</th>\n",
       "      <th>Age</th>\n",
       "      <th>No of Pregnancy</th>\n",
       "      <th>Gestation in previous Pregnancy</th>\n",
       "      <th>BMI</th>\n",
       "      <th>HDL</th>\n",
       "      <th>Family History</th>\n",
       "      <th>unexplained prenetal loss</th>\n",
       "      <th>Large Child or Birth Default</th>\n",
       "      <th>PCOS</th>\n",
       "      <th>Sys BP</th>\n",
       "      <th>Dia BP</th>\n",
       "      <th>OGTT</th>\n",
       "      <th>Hemoglobin</th>\n",
       "      <th>Sedentary Lifestyle</th>\n",
       "      <th>Prediabetes</th>\n",
       "      <th>Class Label(GDM /Non GDM)</th>\n",
       "    </tr>\n",
       "  </thead>\n",
       "  <tbody>\n",
       "    <tr>\n",
       "      <th>0</th>\n",
       "      <td>1</td>\n",
       "      <td>22</td>\n",
       "      <td>2</td>\n",
       "      <td>1</td>\n",
       "      <td>NaN</td>\n",
       "      <td>55.0</td>\n",
       "      <td>0</td>\n",
       "      <td>0</td>\n",
       "      <td>0</td>\n",
       "      <td>0</td>\n",
       "      <td>102.0</td>\n",
       "      <td>69</td>\n",
       "      <td>NaN</td>\n",
       "      <td>12.0</td>\n",
       "      <td>0</td>\n",
       "      <td>0</td>\n",
       "      <td>0</td>\n",
       "    </tr>\n",
       "    <tr>\n",
       "      <th>1</th>\n",
       "      <td>2</td>\n",
       "      <td>26</td>\n",
       "      <td>2</td>\n",
       "      <td>1</td>\n",
       "      <td>NaN</td>\n",
       "      <td>53.0</td>\n",
       "      <td>0</td>\n",
       "      <td>0</td>\n",
       "      <td>0</td>\n",
       "      <td>0</td>\n",
       "      <td>101.0</td>\n",
       "      <td>63</td>\n",
       "      <td>NaN</td>\n",
       "      <td>12.4</td>\n",
       "      <td>0</td>\n",
       "      <td>0</td>\n",
       "      <td>0</td>\n",
       "    </tr>\n",
       "    <tr>\n",
       "      <th>2</th>\n",
       "      <td>3</td>\n",
       "      <td>29</td>\n",
       "      <td>1</td>\n",
       "      <td>0</td>\n",
       "      <td>NaN</td>\n",
       "      <td>50.0</td>\n",
       "      <td>0</td>\n",
       "      <td>0</td>\n",
       "      <td>0</td>\n",
       "      <td>0</td>\n",
       "      <td>118.0</td>\n",
       "      <td>79</td>\n",
       "      <td>NaN</td>\n",
       "      <td>14.3</td>\n",
       "      <td>0</td>\n",
       "      <td>0</td>\n",
       "      <td>0</td>\n",
       "    </tr>\n",
       "    <tr>\n",
       "      <th>3</th>\n",
       "      <td>4</td>\n",
       "      <td>28</td>\n",
       "      <td>2</td>\n",
       "      <td>1</td>\n",
       "      <td>NaN</td>\n",
       "      <td>51.0</td>\n",
       "      <td>0</td>\n",
       "      <td>0</td>\n",
       "      <td>0</td>\n",
       "      <td>0</td>\n",
       "      <td>99.0</td>\n",
       "      <td>70</td>\n",
       "      <td>NaN</td>\n",
       "      <td>15.0</td>\n",
       "      <td>0</td>\n",
       "      <td>0</td>\n",
       "      <td>0</td>\n",
       "    </tr>\n",
       "    <tr>\n",
       "      <th>4</th>\n",
       "      <td>5</td>\n",
       "      <td>21</td>\n",
       "      <td>2</td>\n",
       "      <td>1</td>\n",
       "      <td>NaN</td>\n",
       "      <td>52.0</td>\n",
       "      <td>0</td>\n",
       "      <td>0</td>\n",
       "      <td>0</td>\n",
       "      <td>0</td>\n",
       "      <td>116.0</td>\n",
       "      <td>65</td>\n",
       "      <td>NaN</td>\n",
       "      <td>15.0</td>\n",
       "      <td>0</td>\n",
       "      <td>0</td>\n",
       "      <td>0</td>\n",
       "    </tr>\n",
       "  </tbody>\n",
       "</table>\n",
       "</div>"
      ],
      "text/plain": [
       "   Case Number  Age  No of Pregnancy  Gestation in previous Pregnancy  BMI  \\\n",
       "0            1   22                2                                1  NaN   \n",
       "1            2   26                2                                1  NaN   \n",
       "2            3   29                1                                0  NaN   \n",
       "3            4   28                2                                1  NaN   \n",
       "4            5   21                2                                1  NaN   \n",
       "\n",
       "    HDL  Family History  unexplained prenetal loss  \\\n",
       "0  55.0               0                          0   \n",
       "1  53.0               0                          0   \n",
       "2  50.0               0                          0   \n",
       "3  51.0               0                          0   \n",
       "4  52.0               0                          0   \n",
       "\n",
       "   Large Child or Birth Default  PCOS  Sys BP  Dia BP  OGTT  Hemoglobin  \\\n",
       "0                             0     0   102.0      69   NaN        12.0   \n",
       "1                             0     0   101.0      63   NaN        12.4   \n",
       "2                             0     0   118.0      79   NaN        14.3   \n",
       "3                             0     0    99.0      70   NaN        15.0   \n",
       "4                             0     0   116.0      65   NaN        15.0   \n",
       "\n",
       "   Sedentary Lifestyle  Prediabetes  Class Label(GDM /Non GDM)  \n",
       "0                    0            0                          0  \n",
       "1                    0            0                          0  \n",
       "2                    0            0                          0  \n",
       "3                    0            0                          0  \n",
       "4                    0            0                          0  "
      ]
     },
     "execution_count": 37,
     "metadata": {},
     "output_type": "execute_result"
    }
   ],
   "source": [
    "data.head()"
   ]
  },
  {
   "cell_type": "code",
   "execution_count": 38,
   "id": "f8eb0d28-dbc2-4f7e-87b0-c456b886e222",
   "metadata": {},
   "outputs": [
    {
     "data": {
      "text/plain": [
       "BMI       1081\n",
       "HDL       1001\n",
       "Sys BP    1705\n",
       "OGTT       513\n",
       "dtype: int64"
      ]
     },
     "execution_count": 38,
     "metadata": {},
     "output_type": "execute_result"
    }
   ],
   "source": [
    "missing_values = data.isnull().sum()\n",
    "missing_values[missing_values > 0]"
   ]
  },
  {
   "cell_type": "code",
   "execution_count": 39,
   "id": "c09f2bef-25e0-4332-92fe-3ad5ba25237b",
   "metadata": {},
   "outputs": [
    {
     "data": {
      "text/plain": [
       "Case Number                        0\n",
       "Age                                0\n",
       "No of Pregnancy                    0\n",
       "Gestation in previous Pregnancy    0\n",
       "BMI                                0\n",
       "HDL                                0\n",
       "Family History                     0\n",
       "unexplained prenetal loss          0\n",
       "Large Child or Birth Default       0\n",
       "PCOS                               0\n",
       "Sys BP                             0\n",
       "Dia BP                             0\n",
       "OGTT                               0\n",
       "Hemoglobin                         0\n",
       "Sedentary Lifestyle                0\n",
       "Prediabetes                        0\n",
       "Class Label(GDM /Non GDM)          0\n",
       "dtype: int64"
      ]
     },
     "execution_count": 39,
     "metadata": {},
     "output_type": "execute_result"
    }
   ],
   "source": [
    "numeric_columns = ['BMI', 'HDL', 'Sys BP', 'OGTT']\n",
    "data[numeric_columns] = data[numeric_columns].fillna(data[numeric_columns].mean())\n",
    "\n",
    "data.isnull().sum()\n"
   ]
  },
  {
   "cell_type": "code",
   "execution_count": 40,
   "id": "e71ad27f-1d14-49d3-9985-d99c9b49ad16",
   "metadata": {},
   "outputs": [
    {
     "data": {
      "text/plain": [
       "((2820, 15), (705, 15), (2820,), (705,))"
      ]
     },
     "execution_count": 40,
     "metadata": {},
     "output_type": "execute_result"
    }
   ],
   "source": [
    "from sklearn.preprocessing import StandardScaler\n",
    "\n",
    "# Define the features (X) and target (y)\n",
    "X = data.drop(columns=['Case Number', 'Class Label(GDM /Non GDM)'])  # Drop ID and target columns\n",
    "y = data['Class Label(GDM /Non GDM)']\n",
    "\n",
    "# Normalize/standardize the numerical features\n",
    "scaler = StandardScaler()\n",
    "X_scaled = scaler.fit_transform(X)\n",
    "\n",
    "# Convert scaled data back to a DataFrame for better readability\n",
    "X_scaled_df = pd.DataFrame(X_scaled, columns=X.columns)\n",
    "\n",
    "# Split the dataset into training and testing sets\n",
    "X_train, X_test, y_train, y_test = train_test_split(X_scaled_df, y, test_size=0.2, random_state=42)\n",
    "\n",
    "# Display the shapes of the train and test sets\n",
    "X_train.shape, X_test.shape, y_train.shape, y_test.shape\n"
   ]
  },
  {
   "cell_type": "code",
   "execution_count": 41,
   "id": "9d9f65d8-f0b5-4c67-bcf7-4089f467d26e",
   "metadata": {},
   "outputs": [
    {
     "name": "stdout",
     "output_type": "stream",
     "text": [
      "              precision    recall  f1-score   support\n",
      "\n",
      "           0       0.98      0.97      0.97       448\n",
      "           1       0.95      0.96      0.96       257\n",
      "\n",
      "    accuracy                           0.97       705\n",
      "   macro avg       0.96      0.97      0.96       705\n",
      "weighted avg       0.97      0.97      0.97       705\n",
      "\n",
      "0.983532518065592\n"
     ]
    }
   ],
   "source": [
    "# Train a Logistic Regression model\n",
    "logistic_model = LogisticRegression(random_state=42, max_iter=1000)\n",
    "logistic_model.fit(X_train, y_train)\n",
    "\n",
    "# Make predictions on the test set\n",
    "y_pred = logistic_model.predict(X_test)\n",
    "\n",
    "# Evaluate the model\n",
    "report = classification_report(y_test, y_pred)\n",
    "auc_score = roc_auc_score(y_test, logistic_model.predict_proba(X_test)[:, 1])\n",
    "\n",
    "# Display the evaluation metrics\n",
    "print(report)\n",
    "print(auc_score)\n"
   ]
  },
  {
   "cell_type": "code",
   "execution_count": 42,
   "id": "d173d461-1370-4598-a377-ec63d0453822",
   "metadata": {},
   "outputs": [],
   "source": [
    "from sklearn.model_selection import GridSearchCV\n"
   ]
  },
  {
   "cell_type": "code",
   "execution_count": 45,
   "id": "08186ca3-fcf5-455f-8a09-22dd5e02e058",
   "metadata": {},
   "outputs": [
    {
     "name": "stdout",
     "output_type": "stream",
     "text": [
      "Best Parameters for Logistic Regression: {'C': 0.01, 'solver': 'liblinear'}\n",
      "Best ROC-AUC Score for Logistic Regression: 0.985384585037413\n"
     ]
    }
   ],
   "source": [
    "from sklearn.linear_model import LogisticRegression\n",
    "from sklearn.model_selection import GridSearchCV\n",
    "\n",
    "# Define hyperparameter grid for Logistic Regression\n",
    "logistic_params = {\n",
    "    'C': [0.01, 0.1, 1, 10, 100],  # Regularization strengths\n",
    "    'solver': ['liblinear', 'lbfgs']  # Solvers\n",
    "}\n",
    "\n",
    "# Perform GridSearchCV\n",
    "logistic_grid = GridSearchCV(\n",
    "    LogisticRegression(max_iter=1000),\n",
    "    logistic_params,\n",
    "    cv=5,  # 5-fold cross-validation\n",
    "    scoring='roc_auc'\n",
    ")\n",
    "\n",
    "# Fit the model\n",
    "logistic_grid.fit(X_train, y_train)\n",
    "\n",
    "# Results\n",
    "print(\"Best Parameters for Logistic Regression:\", logistic_grid.best_params_)\n",
    "print(\"Best ROC-AUC Score for Logistic Regression:\", logistic_grid.best_score_)\n"
   ]
  },
  {
   "cell_type": "code",
   "execution_count": 46,
   "id": "68629275-29c4-4aec-a162-361dc9effffb",
   "metadata": {},
   "outputs": [
    {
     "data": {
      "image/png": "[encoded data removed]",
      "text/plain": [
       "<Figure size 1000x600 with 1 Axes>"
      ]
     },
     "metadata": {},
     "output_type": "display_data"
    }
   ],
   "source": [
    "import numpy as np\n",
    "import matplotlib.pyplot as plt\n",
    "\n",
    "# Extract feature importance (coefficients)\n",
    "logistic_importance = np.abs(logistic_grid.best_estimator_.coef_[0])  # Absolute values for easier interpretation\n",
    "features = X_train.columns\n",
    "\n",
    "# Plot feature importance\n",
    "plt.figure(figsize=(10, 6))\n",
    "plt.barh(features, logistic_importance)\n",
    "plt.xlabel(\"Feature Importance (Coefficient Magnitude)\")\n",
    "plt.title(\"Logistic Regression Feature Importance\")\n",
    "plt.show()"
   ]
  },
  {
   "cell_type": "code",
   "execution_count": null,
   "id": "b3ce768a-d54d-440c-8c6a-9bc57ca653c9",
   "metadata": {},
   "outputs": [],
   "source": []
  }
 ],
 "metadata": {
  "kernelspec": {
   "display_name": "Python 3 (ipykernel)",
   "language": "python",
   "name": "python3"
  },
  "language_info": {
   "codemirror_mode": {
    "name": "ipython",
    "version": 3
   },
   "file_extension": ".py",
   "mimetype": "text/x-python",
   "name": "python",
   "nbconvert_exporter": "python",
   "pygments_lexer": "ipython3",
   "version": "3.11.4"
  }
 },
 "nbformat": 4,
 "nbformat_minor": 5
}
