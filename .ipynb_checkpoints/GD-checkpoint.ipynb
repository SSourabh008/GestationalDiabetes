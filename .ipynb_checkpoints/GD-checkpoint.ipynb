{
 "cells": [
  {
   "cell_type": "code",
   "execution_count": 1,
   "id": "c64b8052-b756-488d-b34d-8784a601406f",
   "metadata": {},
   "outputs": [],
   "source": [
    "import pandas as pd\n",
    "import numpy as np\n",
    "from sklearn.model_selection import train_test_split, GridSearchCV\n",
    "from sklearn.ensemble import RandomForestClassifier\n",
    "from sklearn.metrics import classification_report, roc_auc_score\n",
    "from sklearn.preprocessing import StandardScaler\n",
    "from sklearn.pipeline import make_pipeline\n",
    "import joblib"
   ]
  },
  {
   "cell_type": "code",
   "execution_count": 2,
   "id": "b97cd67f-0202-48b1-a4a5-a8b67098e728",
   "metadata": {},
   "outputs": [
    {
     "name": "stdout",
     "output_type": "stream",
     "text": [
      "Dataset loaded successfully!\n"
     ]
    }
   ],
   "source": [
    "file_path = r'C:/Users/soura/Desktop/Minor Project/Gestational Doiabetes/Dataset/GS.xlsx'\n",
    "try:\n",
    "    data = pd.read_excel(file_path)\n",
    "    print(\"Dataset loaded successfully!\")\n",
    "    # Standardize column names to lowercase with underscores.\n",
    "    data.columns = data.columns.str.lower().str.replace(\" \", \"_\")\n",
    "except Exception as e:\n",
    "    print(f\"An error occurred while loading the dataset: {e}\")"
   ]
  },
  {
   "cell_type": "code",
   "execution_count": 13,
   "id": "786a81d9-1e71-4263-88d6-5c5d93eb7591",
   "metadata": {},
   "outputs": [
    {
     "name": "stdout",
     "output_type": "stream",
     "text": [
      "Columns after standardization: ['case_number', 'age', 'no_of_pregnancy', 'gestation_in_previous_pregnancy', 'bmi', 'hdl', 'family_history', 'unexplained_prenetal_loss', 'large_child_or_birth_default', 'pcos', 'sys_bp', 'dia_bp', 'ogtt', 'hemoglobin', 'sedentary_lifestyle', 'prediabetes', 'class_label(gdm_/non_gdm)']\n"
     ]
    }
   ],
   "source": [
    "try:\n",
    "    data.columns = data.columns.str.lower().str.strip().str.replace(\" \", \"_\")\n",
    "    print(\"Columns after standardization:\", data.columns.tolist())\n",
    "except Exception as e:\n",
    "    print(f\"An error occurred while loading the dataset: {e}\")\n"
   ]
  },
  {
   "cell_type": "code",
   "execution_count": 14,
   "id": "7eea797a-a5f5-402c-8cf6-6ee423a346f1",
   "metadata": {},
   "outputs": [],
   "source": [
    "feature_cols = ['age', 'NoofPregnancy', 'bmi', 'sys_bp', 'dia_bp', 'ogtt']\n",
    "target_col = 'class_label(gdm_/non_gdm)'  # Adjust this if your target column name differs"
   ]
  },
  {
   "cell_type": "code",
   "execution_count": 15,
   "id": "0d6efcd3-13eb-4276-bd7e-dd7a5ef5564b",
   "metadata": {},
   "outputs": [
    {
     "ename": "KeyError",
     "evalue": "\"The following columns are missing from the dataset: ['No of Pregnancy']\"",
     "output_type": "error",
     "traceback": [
      "\u001b[1;31m---------------------------------------------------------------------------\u001b[0m",
      "\u001b[1;31mKeyError\u001b[0m                                  Traceback (most recent call last)",
      "Cell \u001b[1;32mIn[15], line 3\u001b[0m\n\u001b[0;32m      1\u001b[0m missing_cols \u001b[38;5;241m=\u001b[39m [col \u001b[38;5;28;01mfor\u001b[39;00m col \u001b[38;5;129;01min\u001b[39;00m feature_cols \u001b[38;5;28;01mif\u001b[39;00m col \u001b[38;5;129;01mnot\u001b[39;00m \u001b[38;5;129;01min\u001b[39;00m data\u001b[38;5;241m.\u001b[39mcolumns]\n\u001b[0;32m      2\u001b[0m \u001b[38;5;28;01mif\u001b[39;00m missing_cols:\n\u001b[1;32m----> 3\u001b[0m     \u001b[38;5;28;01mraise\u001b[39;00m \u001b[38;5;167;01mKeyError\u001b[39;00m(\u001b[38;5;124mf\u001b[39m\u001b[38;5;124m\"\u001b[39m\u001b[38;5;124mThe following columns are missing from the dataset: \u001b[39m\u001b[38;5;132;01m{\u001b[39;00mmissing_cols\u001b[38;5;132;01m}\u001b[39;00m\u001b[38;5;124m\"\u001b[39m)\n",
      "\u001b[1;31mKeyError\u001b[0m: \"The following columns are missing from the dataset: ['No of Pregnancy']\""
     ]
    }
   ],
   "source": [
    "missing_cols = [col for col in feature_cols if col not in data.columns]\n",
    "if missing_cols:\n",
    "    raise KeyError(f\"The following columns are missing from the dataset: {missing_cols}\")"
   ]
  },
  {
   "cell_type": "code",
   "execution_count": null,
   "id": "365017f7-a7cf-4992-ad71-146f994566f4",
   "metadata": {},
   "outputs": [],
   "source": []
  }
 ],
 "metadata": {
  "kernelspec": {
   "display_name": "Python 3 (ipykernel)",
   "language": "python",
   "name": "python3"
  },
  "language_info": {
   "codemirror_mode": {
    "name": "ipython",
    "version": 3
   },
   "file_extension": ".py",
   "mimetype": "text/x-python",
   "name": "python",
   "nbconvert_exporter": "python",
   "pygments_lexer": "ipython3",
   "version": "3.11.4"
  }
 },
 "nbformat": 4,
 "nbformat_minor": 5
}
