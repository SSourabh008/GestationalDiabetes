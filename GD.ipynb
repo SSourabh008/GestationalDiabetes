{
 "cells": [
  {
   "cell_type": "code",
   "execution_count": 16,
   "id": "c64b8052-b756-488d-b34d-8784a601406f",
   "metadata": {},
   "outputs": [],
   "source": [
    "import pandas as pd\n",
    "import numpy as np\n",
    "from sklearn.model_selection import train_test_split, GridSearchCV\n",
    "from sklearn.ensemble import RandomForestClassifier\n",
    "from sklearn.metrics import classification_report, roc_auc_score\n",
    "from sklearn.preprocessing import StandardScaler\n",
    "from sklearn.pipeline import make_pipeline\n",
    "import joblib"
   ]
  },
  {
   "cell_type": "code",
   "execution_count": 17,
   "id": "b97cd67f-0202-48b1-a4a5-a8b67098e728",
   "metadata": {},
   "outputs": [
    {
     "name": "stdout",
     "output_type": "stream",
     "text": [
      "Dataset loaded successfully!\n"
     ]
    }
   ],
   "source": [
    "file_path = r'C:/Users/soura/Desktop/Minor Project/Gestational Doiabetes/Dataset/GS.xlsx'\n",
    "try:\n",
    "    data = pd.read_excel(file_path)\n",
    "    print(\"Dataset loaded successfully!\")\n",
    "    # Standardize column names to lowercase with underscores.\n",
    "    data.columns = data.columns.str.lower().str.replace(\" \", \"_\")\n",
    "except Exception as e:\n",
    "    print(f\"An error occurred while loading the dataset: {e}\")"
   ]
  },
  {
   "cell_type": "code",
   "execution_count": 21,
   "id": "786a81d9-1e71-4263-88d6-5c5d93eb7591",
   "metadata": {},
   "outputs": [
    {
     "name": "stdout",
     "output_type": "stream",
     "text": [
      "Columns after standardization: ['case_number', 'age', 'noofpregnancy', 'gestation_in_previous_pregnancy', 'bmi', 'hdl', 'family_history', 'unexplained_prenetal_loss', 'large_child_or_birth_default', 'pcos', 'sys_bp', 'dia_bp', 'ogtt', 'hemoglobin', 'sedentary_lifestyle', 'prediabetes', 'class_label(gdm_/non_gdm)']\n"
     ]
    }
   ],
   "source": [
    "try:\n",
    "    data.columns = data.columns.str.lower().str.strip().str.replace(\" \", \"_\")\n",
    "    print(\"Columns after standardization:\", data.columns.tolist())\n",
    "except Exception as e:\n",
    "    print(f\"An error occurred while loading the dataset: {e}\")\n"
   ]
  },
  {
   "cell_type": "code",
   "execution_count": 22,
   "id": "7eea797a-a5f5-402c-8cf6-6ee423a346f1",
   "metadata": {},
   "outputs": [],
   "source": [
    "feature_cols = ['age', 'noofpregnancy', 'bmi', 'sys_bp', 'dia_bp', 'ogtt']\n",
    "target_col = 'class_label(gdm_/non_gdm)'  # Adjust this if your target column name differs"
   ]
  },
  {
   "cell_type": "code",
   "execution_count": 23,
   "id": "0d6efcd3-13eb-4276-bd7e-dd7a5ef5564b",
   "metadata": {},
   "outputs": [],
   "source": [
    "missing_cols = [col for col in feature_cols if col not in data.columns]\n",
    "if missing_cols:\n",
    "    raise KeyError(f\"The following columns are missing from the dataset: {missing_cols}\")"
   ]
  },
  {
   "cell_type": "code",
   "execution_count": 24,
   "id": "365017f7-a7cf-4992-ad71-146f994566f4",
   "metadata": {},
   "outputs": [],
   "source": [
    "X = data[feature_cols]\n",
    "y = data[target_col]"
   ]
  },
  {
   "cell_type": "code",
   "execution_count": 25,
   "id": "cf5034c3-e836-4e5c-b818-299e3e105bfd",
   "metadata": {},
   "outputs": [],
   "source": [
    "X = X.fillna(X.mean())"
   ]
  },
  {
   "cell_type": "code",
   "execution_count": 26,
   "id": "6b054498-770d-4f79-ae05-e265ec11e989",
   "metadata": {},
   "outputs": [],
   "source": [
    "X_train, X_test, y_train, y_test = train_test_split(X, y, test_size=0.2, random_state=42)"
   ]
  },
  {
   "cell_type": "code",
   "execution_count": 27,
   "id": "ff7520bb-fdff-4494-9024-1581863c8901",
   "metadata": {},
   "outputs": [],
   "source": [
    "pipeline = make_pipeline(StandardScaler(), RandomForestClassifier(random_state=42))"
   ]
  },
  {
   "cell_type": "code",
   "execution_count": 28,
   "id": "8f177a4c-0238-48e7-9756-aa2947c7190d",
   "metadata": {},
   "outputs": [],
   "source": [
    "rf_params = {\n",
    "    'randomforestclassifier__n_estimators': [50, 100, 200],\n",
    "    'randomforestclassifier__max_depth': [None, 5, 10],\n",
    "    'randomforestclassifier__min_samples_split': [2, 5, 10]\n",
    "}"
   ]
  },
  {
   "cell_type": "code",
   "execution_count": 29,
   "id": "acbe5c8e-7da0-4db4-99db-25e35af1ce13",
   "metadata": {},
   "outputs": [
    {
     "name": "stdout",
     "output_type": "stream",
     "text": [
      "Best Parameters for Random Forest: {'randomforestclassifier__max_depth': None, 'randomforestclassifier__min_samples_split': 2, 'randomforestclassifier__n_estimators': 50}\n",
      "Best ROC-AUC Score for Random Forest: 0.9981839222545139\n"
     ]
    }
   ],
   "source": [
    "grid = GridSearchCV(pipeline, rf_params, cv=5, scoring='roc_auc')\n",
    "grid.fit(X_train, y_train)\n",
    "print(\"Best Parameters for Random Forest:\", grid.best_params_)\n",
    "print(\"Best ROC-AUC Score for Random Forest:\", grid.best_score_)"
   ]
  },
  {
   "cell_type": "code",
   "execution_count": 30,
   "id": "09ea1c2d-9a99-4193-9736-bdf5bea0d46b",
   "metadata": {},
   "outputs": [
    {
     "name": "stdout",
     "output_type": "stream",
     "text": [
      "Classification Report on Test Data:\n",
      "               precision    recall  f1-score   support\n",
      "\n",
      "           0       0.98      0.96      0.97       448\n",
      "           1       0.94      0.96      0.95       257\n",
      "\n",
      "    accuracy                           0.96       705\n",
      "   macro avg       0.96      0.96      0.96       705\n",
      "weighted avg       0.96      0.96      0.96       705\n",
      "\n"
     ]
    }
   ],
   "source": [
    "y_pred = grid.predict(X_test)\n",
    "print(\"Classification Report on Test Data:\\n\", classification_report(y_test, y_pred))"
   ]
  },
  {
   "cell_type": "code",
   "execution_count": 31,
   "id": "6c8f76b8-15e8-4684-851a-83746e4d92dd",
   "metadata": {},
   "outputs": [
    {
     "name": "stdout",
     "output_type": "stream",
     "text": [
      "Best Random Forest model saved successfully at best_model.pkl\n"
     ]
    }
   ],
   "source": [
    "joblib.dump(grid.best_estimator_, \"best_model.pkl\")\n",
    "print(\"Best Random Forest model saved successfully at best_model.pkl\")"
   ]
  },
  {
   "cell_type": "code",
   "execution_count": null,
   "id": "513de5ea-144a-4475-80ea-03fbe44dba2f",
   "metadata": {},
   "outputs": [],
   "source": []
  }
 ],
 "metadata": {
  "kernelspec": {
   "display_name": "Python 3 (ipykernel)",
   "language": "python",
   "name": "python3"
  },
  "language_info": {
   "codemirror_mode": {
    "name": "ipython",
    "version": 3
   },
   "file_extension": ".py",
   "mimetype": "text/x-python",
   "name": "python",
   "nbconvert_exporter": "python",
   "pygments_lexer": "ipython3",
   "version": "3.11.4"
  }
 },
 "nbformat": 4,
 "nbformat_minor": 5
}
